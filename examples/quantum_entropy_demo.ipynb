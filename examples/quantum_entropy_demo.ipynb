{
 "cells": [
  {
   "cell_type": "code",
   "execution_count": null,
   "metadata": {},
   "outputs": [],
   "source": [
    "# Demonstration of Quantum Entropy Modulation\n",
    "\n",
    "from quantum_entropy.qubit_simulator import QubitSimulator\n",
    "\n",
    "# Initialize a simulator with 2 qubits\n",
    "simulator = QubitSimulator(2)\n",
    "\n",
    "# Display the initial quantum state\n",
    "print(\"Initial State:\", simulator.state)\n",
    "\n",
    "# Apply entropy modulation\n",
    "simulator.apply_entropy_modulation(entropy_factor=0.2)\n",
    "print(\"State after Entropy Modulation:\", simulator.state)\n",
    "\n",
    "# Perform measurement\n",
    "measured_state = simulator.measure_state()\n",
    "print(f\"Measured State: {measured_state}\")\n"
   ]
  }
 ],
 "metadata": {
  "language_info": {
   "name": "python"
  }
 },
 "nbformat": 4,
 "nbformat_minor": 2
}
